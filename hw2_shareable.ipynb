{
 "cells": [
  {
   "cell_type": "code",
   "execution_count": 16,
   "metadata": {},
   "outputs": [
    {
     "name": "stdout",
     "output_type": "stream",
     "text": [
      "\n",
      " ############ Import data ############# \n",
      "\n"
     ]
    }
   ],
   "source": [
    "# coding: utf-8\n",
    "# Assumes inputs are pandas data frames\n",
    "# Assumes the last column of data is the output dimension\n",
    "\n",
    "import numpy as np\n",
    "import matplotlib.pyplot as plt\n",
    "import pandas as pd\n",
    "from sklearn.svm import SVC\n",
    "from sklearn.linear_model import LogisticRegression\n",
    "from sklearn.neighbors import KNeighborsClassifier\n",
    "from sklearn.naive_bayes import GaussianNB\n",
    "from sklearn.model_selection import KFold\n",
    "from sklearn import preprocessing\n",
    "from sklearn.metrics import roc_curve, auc\n",
    "from sklearn.preprocessing import Binarizer\n",
    "from sklearn.metrics import precision_recall_curve\n",
    "from sklearn.metrics import accuracy_score\n",
    "import warnings\n",
    "warnings.filterwarnings('ignore')\n",
    "from sklearn.utils import shuffle \n",
    "import matplotlib.pyplot as plt\n",
    "import re\n",
    "\n",
    "####################\n",
    "####import data#####\n",
    "print('\\n ############ Import data ############# \\n')\n",
    "####################\n",
    "\n",
    "my_data = pd.read_csv('wine.csv')\n",
    "#encode class into 0/1 for easier handling by classification algorithm\n",
    "\n",
    "my_data.replace(to_replace=r'high', value=1, regex=True, inplace=True)\n",
    "my_data.replace(to_replace=r'low', value=0, regex=True, inplace=True)\n"
   ]
  },
  {
   "cell_type": "code",
   "execution_count": 2,
   "metadata": {},
   "outputs": [
    {
     "name": "stdout",
     "output_type": "stream",
     "text": [
      "\n",
      " ############ PART 1 ############# \n",
      "\n"
     ]
    }
   ],
   "source": [
    "# coding: utf-8\n",
    "\n",
    "# Assumes inputs are pandas data frames\n",
    "# Assumes the last column of data is the output dimension\n",
    "\n",
    "##############################\n",
    "# PART 1\n",
    "print('\\n ############ PART 1 ############# \\n')\n",
    "##############################\n",
    "\n",
    "# Logistic Regression\n",
    "# Assumes the last column of data is the output dimension\n",
    "def get_pred_logreg(train,test):\n",
    "    n,m = train.shape # number of rows and columns\n",
    "    X_train = train.iloc[:,:m-1] # get training input data (log crime rate)\n",
    "    y_train = train.iloc[:,m-1:] # get training output data (housing price)\n",
    "    x_test = test.iloc[:,:m-1] # get test input data\n",
    "    y_test = test.iloc[:,m-1:] # get test input data\n",
    "    logreg = LogisticRegression()\n",
    "\n",
    "    logreg.fit(X_train, y_train) \n",
    "    y_pred = logreg.predict(x_test)\n",
    "    y_pred_prob = logreg.predict_proba(x_test)\n",
    "    return y_pred_prob[:,1].tolist(), y_test #return predicted and actual values for output\n",
    "\n",
    "# Support Vector Machine\n",
    "# Assumes the last column of data is the output dimension\n",
    "def get_pred_svm(train,test):\n",
    "    n,m = train.shape # number of rows and columns\n",
    "    X_train = train.iloc[:,:m-1] # get training input data (log crime rate)\n",
    "    y_train = train.iloc[:,m-1:] # get training output data (housing price)\n",
    "    x_test = test.iloc[:,:m-1] # get test input data\n",
    "    y_test = test.iloc[:,m-1:] # get test input data\n",
    "\n",
    "    svm = SVC(gamma='auto',kernel='rbf', probability = True)\n",
    "    svm.fit(X_train, y_train)\n",
    "    y_pred = svm.predict(x_test)\n",
    "    y_pred_prob = svm.predict_proba(x_test)\n",
    "    return y_pred_prob[:,1].tolist(), y_test #return predicted and actual values for output\n",
    "\n",
    "# Naive Bayes\n",
    "# Assumes the last column of data is the output dimension\n",
    "def get_pred_nb(train,test):\n",
    "    n,m = train.shape # number of rows and columns\n",
    "    X_train = train.iloc[:,:m-1] # get training input data (log crime rate)\n",
    "    y_train = train.iloc[:,m-1:] # get training output data (housing price)\n",
    "    x_test = test.iloc[:,:m-1] # get test input data\n",
    "    y_test = test.iloc[:,m-1:] # get test input data\n",
    "    nb = GaussianNB()\n",
    "    nb.fit(X_train, y_train)\n",
    "    y_pred = nb.predict(x_test)\n",
    "    y_pred_prob = nb.predict_proba(x_test)\n",
    "    return y_pred_prob[:,1].tolist(), y_test #return predicted and actual values for output\n",
    "\n",
    "\n",
    "# k-Nearest Neighbor\n",
    "# Assumes the last column of data is the output dimension\n",
    "# Hint: you might want to use predit_proba to get predicted probabilities\n",
    "def get_pred_knn(train,test,k):\n",
    "    n,m = train.shape # number of rows and columns\n",
    "    X_train = train.iloc[:,:m-1] # get training input data (log crime rate)\n",
    "    y_train = train.iloc[:,m-1:] # get training output data (housing price)\n",
    "    x_test = test.iloc[:,:m-1] # get test input data\n",
    "    y_test = test.iloc[:,m-1:] # get test input data\n",
    "    neighbors = KNeighborsClassifier(n_neighbors=int(k)) # initialize KNN\n",
    "    neighbors.fit(X_train, y_train) # fit the model to the training data\n",
    "    y_pred = neighbors.predict(x_test)\n",
    "    y_pred_prob = neighbors.predict_proba(x_test)\n",
    "    return y_pred_prob[:,1].tolist(), y_test #return predicted and actual values for output\n",
    "\n",
    "# k-Nearest Neighbor\n",
    "# Assumes the last column of data is the output dimension\n",
    "# ***This function is used for Problem 4 part A\n",
    "#The following returns the training and test data predictions\n",
    "def get_pred_train_knn(train,test,k):\n",
    "    n,m = train.shape # number of rows and columns\n",
    "    X_train = train.iloc[:,:m-1] # get training input data (log crime rate)\n",
    "    y_train = train.iloc[:,m-1:] # get training output data (housing price)\n",
    "    x_test = test.iloc[:,:m-1] # get test input data\n",
    "    y_test = test.iloc[:,m-1:] # get test input data\n",
    "    neighbors = KNeighborsClassifier(n_neighbors=int(k)) # initialize KNN\n",
    "    neighbors.fit(X_train, y_train) # fit the model to the training data\n",
    "    y_pred = neighbors.predict(x_test)\n",
    "    y_pred_prob = neighbors.predict_proba(x_test) #find predicted prob for test\n",
    "    y_train_prob = neighbors.predict_proba(X_train) #find the predicted prob for training\n",
    "    \n",
    "    y_test_t = y_test.values.tolist()\n",
    "    y_t_flat = [e for sl in y_test_t for e in sl]\n",
    "    d={'Predicted_Test':y_pred_prob[:,1].tolist(), 'Test_True': y_t_flat}#, 'Test_True': y_test.values.tolist()}\n",
    "    df_test=pd.DataFrame(data=d) # create a dataframe with the test pred val column 0, test real val column1\n",
    "    \n",
    "    y_t = y_train.values.tolist()\n",
    "    y_flat = [e for sl in y_t for e in sl]\n",
    "    f={'Predicted_Train': y_train_prob[:,1].tolist(), 'Test_True': y_flat}#, 'Train_True': y_train}\n",
    "    df_train=pd.DataFrame(data=f) # create a dataframe with the train pred val column 0, train real val column1\n",
    "    return df_test,df_train #return predicted and actual values for output\n"
   ]
  },
  {
   "cell_type": "code",
   "execution_count": 18,
   "metadata": {},
   "outputs": [
    {
     "name": "stdout",
     "output_type": "stream",
     "text": [
      "\n",
      " ############ PART 2 ############# \n",
      "\n"
     ]
    }
   ],
   "source": [
    "##############################\n",
    "# PART 2\n",
    "print('\\n ############ PART 2 ############# \\n')\n",
    "##############################\n",
    "\n",
    "#your implementation of do_cv_class goes here\n",
    "#input: dataframe, integer number of folds, string model_name\n",
    "#output: dataframe with (y_pred, y_true,folds) \n",
    "def do_cv_class(df, num_folds, model_name):\n",
    "    m_names = {\"logreg\":get_pred_logreg,\"svm\": get_pred_svm,\"nb\" : get_pred_nb,\"knn\": get_pred_knn}\n",
    "    k_fold = KFold(num_folds, shuffle=True, random_state=0) #initialize kfold model\n",
    "    n,m=df.shape\n",
    "    indices = range(n) \n",
    "    fold_num = []\n",
    "    y_pred_results =[]  \n",
    "    y_true_results =[]  \n",
    "    k=1\n",
    "    if('nn' in str(model_name)): #check to see if the model being called is knn\n",
    "        n_idx = str(model_name).find('n')\n",
    "        neighs = model_name[0:n_idx]\n",
    "        model_name=\"knn\"\n",
    "        for train_indices, test_indices in k_fold.split(indices):\n",
    "            y_pred, y_true = m_names.get(model_name)(df.iloc[train_indices],df.iloc[test_indices],neighs)\n",
    "            list_of_k = [k for i in range(len(test_indices))]\n",
    "            y_pred_results.extend(y_pred) # store y_predictions for each fold in list\n",
    "            y_true_results.extend(y_true.values.tolist()) # store actual y for fold in list\n",
    "            fold_num.extend(list_of_k)\n",
    "            k+=1\n",
    "    else:\n",
    "        for train_indices, test_indices in k_fold.split(indices):\n",
    "            y_pred, y_true = m_names.get(model_name)(df.iloc[train_indices],df.iloc[test_indices])\n",
    "            list_of_k = [k for i in range(len(test_indices))]\n",
    "            y_pred_results.extend(y_pred) # store y_predictions for each fold in list\n",
    "            y_true_results.extend(y_true.values.tolist()) # store actual y for fold in list\n",
    "            fold_num.extend(list_of_k) \n",
    "            k+=1\n",
    "    y_flat = [e for sl in y_true_results for e in sl]\n",
    "    d = {'Predicted':y_pred_results,'Actual':y_flat,'Fold':fold_num}\n",
    "    df2 = pd.DataFrame(data=d) #create dataframe, column 0: predicted y, column 1: actual y\n",
    "    return df2\n",
    "\n"
   ]
  },
  {
   "cell_type": "code",
   "execution_count": 9,
   "metadata": {},
   "outputs": [
    {
     "name": "stdout",
     "output_type": "stream",
     "text": [
      "\n",
      " ############ PART 3 ############# \n",
      "\n"
     ]
    }
   ],
   "source": [
    "##############################\n",
    "# PART 3\n",
    "print('\\n ############ PART 3 ############# \\n')\n",
    "##############################\n",
    "\n",
    "#input prediction file the first column of which is prediction value\n",
    "#the 2nd column is true label (0/1)\n",
    "#cutoff is a numeric value, default is 0.5\n",
    "def get_metrics(pred, cutoff=0.5):\n",
    "    n,m = pred.shape\n",
    "    pred.iloc[:,0] = (pred.iloc[:,0]>=cutoff).astype('int')\n",
    "    y_pred = pred.iloc[:,0].to_numpy()\n",
    "    y_true = pred.iloc[:,1].to_numpy()\n",
    "    tp=0 # true positive\n",
    "    tn=0 # true negative\n",
    "    fp=0 # false positive\n",
    "    fn=0 # false negative\n",
    "    for i in range(n): \n",
    "        if y_true[i] == y_pred[i] ==1:\n",
    "            tp+=1\n",
    "        if y_true[i] == y_pred[i] ==0:\n",
    "            tn+=1\n",
    "        if y_true[i] != y_pred[i]:\n",
    "            if y_true[i] == 0:\n",
    "                fp +=1\n",
    "            if y_true[i] ==1:\n",
    "                fn +=1\n",
    "        \n",
    "    tpr = tp/(tp+fn) # True Positive Rate aka Recall\n",
    "    fpr = fp/(tn+fp) # False Positive Rate\n",
    "    tnr = 1-fpr # True Negative Rate aka specificity\n",
    "    fnr = 1 - tpr # False Negative Rate\n",
    "    acc = (tp+tn)/n # accuracy\n",
    "    precision = tp/(tp+fp)\n",
    "    \n",
    "    d = {'TPR/Recall':[tpr],'FPR':[fpr],'ACC':[acc],'Precision':[precision]}\n",
    "    df = pd.DataFrame(d)\n",
    "    return df\n"
   ]
  },
  {
   "cell_type": "code",
   "execution_count": 10,
   "metadata": {},
   "outputs": [
    {
     "name": "stdout",
     "output_type": "stream",
     "text": [
      "\n",
      " ############ PART 4 ############# \n",
      "\n"
     ]
    },
    {
     "data": {
      "image/png": "[encoded data removed]",
      "text/plain": [
       "<Figure size 432x288 with 1 Axes>"
      ]
     },
     "metadata": {
      "needs_background": "light"
     },
     "output_type": "display_data"
    }
   ],
   "source": [
    "##############################\n",
    "# PART 4\n",
    "print('\\n ############ PART 4 ############# \\n')\n",
    "##############################\n",
    "\n",
    "n,m = my_data.shape\n",
    "\n",
    "k = [1, 50,75, 100, 150, 200,250,300,400] #number of neighbors to test\n",
    "\n",
    "test_acc = []\n",
    "train_acc = []\n",
    "l,m = my_data.shape\n",
    "df_shuf = shuffle(my_data) # shuffle the data before splitting\n",
    "train = df_shuf[:500] # use this as training set\n",
    "test=df_shuf[500:] # use there as test set\n",
    "\n",
    "# run the kNN model for the different # of neighbors \n",
    "# find the accuracy for each model for training/test\n",
    "for p in k:\n",
    "    df_test, df_train = get_pred_train_knn(train,test, p)\n",
    "    met = get_metrics(df_test.iloc[:, 0:2])\n",
    "    met_train = get_metrics(df_train.iloc[:, 0:2])\n",
    "    train_acc.extend(met_train.iloc[:,2])\n",
    "    test_acc.extend(met.iloc[:,2])\n",
    "\n",
    "#plot the accuracy for training and test data for given model\n",
    "plt.plot(k, test_acc, label = \"Test Data Accuracy\")\n",
    "plt.plot(k, train_acc, label = \"Train Data Accuracy\")\n",
    "plt.xlabel('Number of Neighbors')\n",
    "plt.ylabel('Test Accuracy')\n",
    "plt.title('Model Accuracy v Number of Neighbors')\n",
    "plt.legend()\n",
    "plt.show()\n"
   ]
  },
  {
   "cell_type": "code",
   "execution_count": 20,
   "metadata": {},
   "outputs": [
    {
     "name": "stdout",
     "output_type": "stream",
     "text": [
      "Stopped testing because the number of neighbors is too large or too small for the sample size.\n"
     ]
    },
    {
     "data": {
      "image/png": "[encoded data removed]",
      "text/plain": [
       "<Figure size 432x288 with 1 Axes>"
      ]
     },
     "metadata": {
      "needs_background": "light"
     },
     "output_type": "display_data"
    }
   ],
   "source": [
    "#Check the predictions for test data for kNN using do_cv_class\n",
    "#Due to prior specifications of do_cv_class does not include training data results\n",
    "# see above for training versus test data model fit for kNN\n",
    "\n",
    "n = ['1nn', '50nn','75nn', '100nn', '150nn', '200nn','250nn','300nn','400nn'] #number of neighbors to test\n",
    "n_num = []#[1, 50,75, 100, 150, 200,250,300,400] #number of neighbors to test\n",
    "test_acc = []\n",
    "train_acc = []  \n",
    "    \n",
    "\n",
    "for i in n:\n",
    "    try:\n",
    "        tmp = do_cv_class(my_data,2,i) # returns pandas dataframe\n",
    "        df = get_metrics(tmp.iloc[:, 0:2])\n",
    "        test_acc.extend(df.iloc[:,2])\n",
    "        n_num.append(re.sub('[^0-9]', '', i))\n",
    "    except ValueError:\n",
    "        print(\"Stopped testing because the number of neighbors is too large or too small for the sample size.\")\n",
    "plt.plot(n_num, test_acc, label = \"Test Data Accuracy\")\n",
    "plt.xlabel('Number of Neighbors')\n",
    "plt.ylabel('Test Accuracy')\n",
    "plt.title('Model Accuracy v Number of Neighbors')\n",
    "plt.legend()\n",
    "plt.show()"
   ]
  },
  {
   "cell_type": "code",
   "execution_count": 21,
   "metadata": {},
   "outputs": [
    {
     "name": "stdout",
     "output_type": "stream",
     "text": [
      "-------------------\n",
      "logistic regression\n",
      "-------------------\n",
      "   TPR/Recall       FPR       ACC  Precision\n",
      "0    0.862259  0.296429  0.793157   0.790404\n",
      "-------------------\n",
      "naieve Bayes\n",
      "-------------------\n",
      "   TPR/Recall  FPR       ACC  Precision\n",
      "0    0.878788  0.2  0.844479   0.850667\n",
      "-------------------\n",
      "svm\n",
      "-------------------\n",
      "   TPR/Recall       FPR       ACC  Precision\n",
      "0    0.848485  0.246429  0.807154   0.816976\n",
      "-------------------\n",
      "default\n",
      "-------------------\n",
      "   TPR/Recall  FPR       ACC  Precision\n",
      "0         1.0  1.0  0.564541   0.564541\n"
     ]
    }
   ],
   "source": [
    "#test cases for \"do_cv_class\" and \"get_metrics\" functions\n",
    "#acc_all_models =[]\n",
    "\n",
    "print('-------------------')\n",
    "print ('logistic regression')\n",
    "print('-------------------')\n",
    "tmp = do_cv_class(my_data,10,'logreg') # returns pandas dataframe\n",
    "print(get_metrics(tmp.iloc[:, 0:2]))\n",
    "\n",
    "print('-------------------')\n",
    "print('naieve Bayes')\n",
    "print('-------------------')\n",
    "tmp = do_cv_class(my_data,10,'nb') # returns pandas dataframe\n",
    "print(get_metrics(tmp.iloc[:, 0:2]))\n",
    "\n",
    "print('-------------------')\n",
    "print('svm')\n",
    "print('-------------------')\n",
    "tmp = do_cv_class(my_data,10,'svm') # returns pandas dataframe\n",
    "print(get_metrics(tmp.iloc[:, 0:2]))\n",
    "\n",
    "print('-------------------')\n",
    "print('default')\n",
    "print('-------------------')\n",
    "#set up the information for the default model\n",
    "n,m = my_data.shape\n",
    "def_mode = my_data.iloc[:,m-1:].mode() # find the most common value for y. Works bc y is binary\n",
    "x1 = np.array(def_mode)  #create array of one element containing mode\n",
    "x2 = np.repeat(x1,n) # create a list with mode repeating n number of times\n",
    "m = my_data.iloc[:,m-1:].copy() #create a dataframe containing the actual values for y\n",
    "m.insert(0, 'Predicted',x2) # insert the actual information in the front \n",
    "print(get_metrics(m))\n"
   ]
  },
  {
   "cell_type": "code",
   "execution_count": null,
   "metadata": {},
   "outputs": [],
   "source": []
  },
  {
   "cell_type": "code",
   "execution_count": null,
   "metadata": {},
   "outputs": [],
   "source": []
  }
 ],
 "metadata": {
  "kernelspec": {
   "display_name": "Python 3",
   "language": "python",
   "name": "python3"
  },
  "language_info": {
   "codemirror_mode": {
    "name": "ipython",
    "version": 3
   },
   "file_extension": ".py",
   "mimetype": "text/x-python",
   "name": "python",
   "nbconvert_exporter": "python",
   "pygments_lexer": "ipython3",
   "version": "3.7.3"
  }
 },
 "nbformat": 4,
 "nbformat_minor": 2
}
