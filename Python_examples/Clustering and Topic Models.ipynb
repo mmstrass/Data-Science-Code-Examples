{
 "cells": [
  {
   "cell_type": "markdown",
   "metadata": {},
   "source": [
    "# Clustering and Topic Models "
   ]
  },
  {
   "cell_type": "markdown",
   "metadata": {},
   "source": [
    "## Question 1: Clustering emails using Gaussian Mixture Models"
   ]
  },
  {
   "cell_type": "markdown",
   "metadata": {},
   "source": [
    "### Part A: Construct a list of processed documents "
   ]
  },
  {
   "cell_type": "code",
   "execution_count": 175,
   "metadata": {},
   "outputs": [],
   "source": [
    "import re\n",
    "import string\n",
    "import codecs\n",
    "\n",
    "def makeWordList(path):\n",
    "    \n",
    "    with codecs.open(path, \"r\", encoding='utf-8', errors='ignore') as f:\n",
    "        corpus_text = f.read()\n",
    "\n",
    "    for c in string.punctuation:\n",
    "        corpus_text = corpus_text.replace(c, \"\")  # -- (1)\n",
    "    \n",
    "    text = re.sub(r'\\S*\\d\\S*', '', corpus_text) # -- (2)\n",
    "    text = re.sub(r'[^\\w\\s]', '', text)         # -- (3)\n",
    "    \n",
    "    text = text.lower().split()           # -- (4)         \n",
    "    \n",
    "    li = []\n",
    "    for token in text:\n",
    "        li.append(token)\n",
    "\n",
    "    return \" \".join(li)"
   ]
  },
  {
   "cell_type": "code",
   "execution_count": 176,
   "metadata": {},
   "outputs": [],
   "source": [
    "import glob\n",
    "email_docs=[]\n",
    "for file in glob.glob('./enron/*.txt'):\n",
    "    email_docs.append(makeWordList(file))"
   ]
  },
  {
   "cell_type": "markdown",
   "metadata": {},
   "source": [
    "### Part B: Construct a document matrix "
   ]
  },
  {
   "cell_type": "code",
   "execution_count": 180,
   "metadata": {},
   "outputs": [],
   "source": [
    " from sklearn.feature_extraction.text import TfidfVectorizer\n",
    "\n",
    "vectorizer = TfidfVectorizer(min_df=50,stop_words=\"english\",max_df=0.8)\n",
    "X = vectorizer.fit_transform(email_docs)\n",
    "vocab=[]\n",
    "for k in  vectorizer.vocabulary_.keys():\n",
    "    vocab.append(k)"
   ]
  },
  {
   "cell_type": "markdown",
   "metadata": {},
   "source": [
    "### Part C: Perform Clustering"
   ]
  },
  {
   "cell_type": "code",
   "execution_count": 181,
   "metadata": {},
   "outputs": [
    {
     "name": "stdout",
     "output_type": "stream",
     "text": [
      "Number of documents\n",
      "--------------------\n",
      "Cluster 1:   363\n",
      "Cluster 2:  1786\n",
      "Cluster 3:  3021\n"
     ]
    }
   ],
   "source": [
    "from sklearn.mixture import GaussianMixture as GMM\n",
    "import matplotlib.pyplot as plt\n",
    "\n",
    "X = X.toarray()\n",
    "gmm = GMM(n_components=3,random_state=0).fit(X)\n",
    "probs = gmm.predict_proba(X)\n",
    "total_docs=(len(email_docs))\n",
    "l = gmm.weights_\n",
    "print(\"Number of documents\")\n",
    "print(\"--------------------\")\n",
    "#the third cluster is made up of 3021.9999999 documents\n",
    "print(\"Cluster 1: %5d\\nCluster 2: %5d\\nCluster 3: %5d\"%(l[0]*total_docs, l[1]*total_docs, l[2]*total_docs))"
   ]
  },
  {
   "cell_type": "markdown",
   "metadata": {},
   "source": [
    "### Part D: Characterize the clusters "
   ]
  },
  {
   "cell_type": "code",
   "execution_count": 6,
   "metadata": {},
   "outputs": [],
   "source": [
    "def plot_spam_words_by_cluster(predicted, n_clusters, spam_indices, ham_indices):\n",
    "    import numpy as np\n",
    "    import matplotlib.pyplot as plt\n",
    "    \n",
    "    # Calculate mean TF-IDF features for each cluster\n",
    "    mean_tfidf_spam = []\n",
    "    mean_tfidf_ham = []\n",
    "    for spam in spam_indices:\n",
    "        mean_tfidf_spam.append([])\n",
    "    for ham in ham_indices:\n",
    "        mean_tfidf_ham.append([])\n",
    "    \n",
    "    for i in range(n_clusters):\n",
    "        for j, spam_idx in enumerate(spam_indices):\n",
    "            mean_tfidf_spam[j].append(X[predicted==i, spam_idx].mean())\n",
    "        for j, ham_idx in enumerate(ham_indices):\n",
    "            mean_tfidf_ham[j].append(X[predicted==i, ham_idx].mean())\n",
    "    \n",
    "    # Generate plot\n",
    "    fig, ax = plt.subplots()\n",
    "\n",
    "    ind = np.arange(n_clusters)    # the x locations for the groups\n",
    "    width = 0.10         # the width of the bars\n",
    "\n",
    "    # Plot spam bars\n",
    "    for i, val in enumerate(mean_tfidf_spam):\n",
    "        spam_bar = ax.bar(ind - (len(mean_tfidf_spam)-i-1)*width, val, width, color='r', bottom=0)\n",
    "\n",
    "    # Plot ham bars\n",
    "    for i, val in enumerate(mean_tfidf_ham):\n",
    "        ham_bar = ax.bar(ind + (len(mean_tfidf_ham)-i)*width, val, width,\n",
    "                color='y', bottom=0)\n",
    "\n",
    "    ax.set_title('Mean TF-IDF Features by Cluster for Spam-Relevant Words')\n",
    "    ax.set_xticks(ind + width / 2)\n",
    "    xticklabels = []\n",
    "    for i in range(n_clusters):\n",
    "        xticklabels.append('Cluster ' + str(i) + '\\n(n=' + str((predicted==i).sum()) + ')')\n",
    "    ax.set_xticklabels(xticklabels)\n",
    "\n",
    "    ax.legend((spam_bar[0], ham_bar[0]), ('Spammy words', 'Hammy words'))\n",
    "    ax.autoscale_view()\n",
    "    ax.set_ylabel('Mean TF-IDF')\n",
    "    plt.show()"
   ]
  },
  {
   "cell_type": "code",
   "execution_count": 86,
   "metadata": {},
   "outputs": [
    {
     "data": {
      "image/png": "[encoded data removed]",
      "text/plain": [
       "<Figure size 432x288 with 1 Axes>"
      ]
     },
     "metadata": {
      "needs_background": "light"
     },
     "output_type": "display_data"
    }
   ],
   "source": [
    "# Spam: sensual, www, click\n",
    "# Ham: review, attached ,accounts\n",
    "#print(sorted(vocab))\n",
    "spam_indices = [vocab.index(\"sexual\"), vocab.index('www'), vocab.index(\"click\")]\n",
    "ham_indices = [vocab.index(\"review\"), vocab.index(\"attached\"), vocab.index(\"accounts\")]\n",
    "plot_spam_words_by_cluster(gmm.predict(X), 3, spam_indices, ham_indices)\n"
   ]
  },
  {
   "cell_type": "markdown",
   "metadata": {},
   "source": [
    "### Part E: Interpret results"
   ]
  },
  {
   "cell_type": "markdown",
   "metadata": {
    "collapsed": true
   },
   "source": [
    "Based on the frequency of the spammy and hammy words there were no clusters that corresponded definitevly with sam emails. Cluster 1 does seem to correspond to typical business emails. Cluster 2 is the closest cluster in the group that may correspond with spam emails but the words need more refining, it could also be Enron's questionable business practices. \n",
    "\n",
    "Rerunning the analysis with different numbers for the clusters, specifically used n_clusters=2 and n_clusters=5, changed the dispersal \n",
    "of the results. With n_clusters = 2 there was one cluster that was obviously hammy words but neither cluster was \n",
    "definitively \"spammy\". With n_clusters = 5 there was more definition by word in the clusters. One of the clusters was almost entirely made up of documents witht the word \"accounts\". It reflected the other n_cluster sizes in that none of the clusters were made up of a significant count of spammy words versus hammy words. At n_clusters=5 there was an empty cluster which means we are trying to force too many clusters on the dataset."
   ]
  },
  {
   "cell_type": "markdown",
   "metadata": {},
   "source": [
    "## Question 2: Latent \"Purposes\" in Mobile Apps \n"
   ]
  },
  {
   "cell_type": "code",
   "execution_count": 1,
   "metadata": {},
   "outputs": [],
   "source": [
    "import numpy as np\n",
    "import matplotlib.pyplot as plt\n",
    "import pandas as pd\n",
    "%matplotlib inline"
   ]
  },
  {
   "cell_type": "markdown",
   "metadata": {},
   "source": [
    "### Part A: Load the data "
   ]
  },
  {
   "cell_type": "code",
   "execution_count": 2,
   "metadata": {},
   "outputs": [],
   "source": [
    "df = pd.read_csv(\"android.csv\", sep=\",\",  thousands=\",\")"
   ]
  },
  {
   "cell_type": "code",
   "execution_count": 3,
   "metadata": {},
   "outputs": [],
   "source": [
    "df[\"Number of ratings\"] = df[\"Number of ratings\"].astype(int) # fix data type\n",
    "df = df.drop_duplicates(subset=[\"App\"]).reset_index(drop=True)"
   ]
  },
  {
   "cell_type": "code",
   "execution_count": 4,
   "metadata": {
    "scrolled": false
   },
   "outputs": [
    {
     "data": {
      "text/html": [
       "<div>\n",
       "<style scoped>\n",
       "    .dataframe tbody tr th:only-of-type {\n",
       "        vertical-align: middle;\n",
       "    }\n",
       "\n",
       "    .dataframe tbody tr th {\n",
       "        vertical-align: top;\n",
       "    }\n",
       "\n",
       "    .dataframe thead th {\n",
       "        text-align: right;\n",
       "    }\n",
       "</style>\n",
       "<table border=\"1\" class=\"dataframe\">\n",
       "  <thead>\n",
       "    <tr style=\"text-align: right;\">\n",
       "      <th></th>\n",
       "      <th>App</th>\n",
       "      <th>Package</th>\n",
       "      <th>Category</th>\n",
       "      <th>Description</th>\n",
       "      <th>Rating</th>\n",
       "      <th>Number of ratings</th>\n",
       "      <th>Price</th>\n",
       "      <th>Related apps</th>\n",
       "      <th>Dangerous permissions count</th>\n",
       "      <th>Safe permissions count</th>\n",
       "      <th>...</th>\n",
       "      <th>Your personal information : read Browser's history and bookmarks (D)</th>\n",
       "      <th>Your personal information : read calendar events (D)</th>\n",
       "      <th>Your personal information : read contact data (D)</th>\n",
       "      <th>Your personal information : read sensitive log data (D)</th>\n",
       "      <th>Your personal information : read user defined dictionary (D)</th>\n",
       "      <th>Your personal information : retrieve system internal state (S)</th>\n",
       "      <th>Your personal information : set alarm in alarm clock (S)</th>\n",
       "      <th>Your personal information : write Browser's history and bookmarks (D)</th>\n",
       "      <th>Your personal information : write contact data (D)</th>\n",
       "      <th>Your personal information : write to user defined dictionary (S)</th>\n",
       "    </tr>\n",
       "  </thead>\n",
       "  <tbody>\n",
       "    <tr>\n",
       "      <th>0</th>\n",
       "      <td>Google Maps</td>\n",
       "      <td>com.google.android.apps.maps</td>\n",
       "      <td>Travel &amp; Local</td>\n",
       "      <td>Download the latest release of Google Maps, an...</td>\n",
       "      <td>4.4</td>\n",
       "      <td>1438259</td>\n",
       "      <td>$0.00</td>\n",
       "      <td>{com.jsdfproductions.ctatrackerpro, com.alk.co...</td>\n",
       "      <td>17.0</td>\n",
       "      <td>8</td>\n",
       "      <td>...</td>\n",
       "      <td>0</td>\n",
       "      <td>0</td>\n",
       "      <td>1</td>\n",
       "      <td>0</td>\n",
       "      <td>0</td>\n",
       "      <td>0</td>\n",
       "      <td>0</td>\n",
       "      <td>0</td>\n",
       "      <td>1</td>\n",
       "      <td>0</td>\n",
       "    </tr>\n",
       "    <tr>\n",
       "      <th>1</th>\n",
       "      <td>Snowfall Live Wallpaper</td>\n",
       "      <td>fishnoodle.snowfall_free</td>\n",
       "      <td>Personalization</td>\n",
       "      <td>Snowfall Live Wallpaper: Wintertime on your ho...</td>\n",
       "      <td>4.3</td>\n",
       "      <td>18147</td>\n",
       "      <td>$0.00</td>\n",
       "      <td>{colfore.wallpaper.snowfree, com.tabsoft.wallp...</td>\n",
       "      <td>0.0</td>\n",
       "      <td>0</td>\n",
       "      <td>...</td>\n",
       "      <td>0</td>\n",
       "      <td>0</td>\n",
       "      <td>0</td>\n",
       "      <td>0</td>\n",
       "      <td>0</td>\n",
       "      <td>0</td>\n",
       "      <td>0</td>\n",
       "      <td>0</td>\n",
       "      <td>0</td>\n",
       "      <td>0</td>\n",
       "    </tr>\n",
       "    <tr>\n",
       "      <th>2</th>\n",
       "      <td>Aquarium Live Wallpaper</td>\n",
       "      <td>fishnoodle.aquarium_free</td>\n",
       "      <td>Personalization</td>\n",
       "      <td>A beautiful tropical fish tank live wallpaper!...</td>\n",
       "      <td>4.1</td>\n",
       "      <td>62145</td>\n",
       "      <td>$0.00</td>\n",
       "      <td>{com.convisual.lwp.fishometerlite, com.accessl...</td>\n",
       "      <td>0.0</td>\n",
       "      <td>0</td>\n",
       "      <td>...</td>\n",
       "      <td>0</td>\n",
       "      <td>0</td>\n",
       "      <td>0</td>\n",
       "      <td>0</td>\n",
       "      <td>0</td>\n",
       "      <td>0</td>\n",
       "      <td>0</td>\n",
       "      <td>0</td>\n",
       "      <td>0</td>\n",
       "      <td>0</td>\n",
       "    </tr>\n",
       "  </tbody>\n",
       "</table>\n",
       "<p>3 rows × 183 columns</p>\n",
       "</div>"
      ],
      "text/plain": [
       "                       App                       Package         Category  \\\n",
       "0              Google Maps  com.google.android.apps.maps   Travel & Local   \n",
       "1  Snowfall Live Wallpaper      fishnoodle.snowfall_free  Personalization   \n",
       "2  Aquarium Live Wallpaper      fishnoodle.aquarium_free  Personalization   \n",
       "\n",
       "                                         Description  Rating  \\\n",
       "0  Download the latest release of Google Maps, an...     4.4   \n",
       "1  Snowfall Live Wallpaper: Wintertime on your ho...     4.3   \n",
       "2  A beautiful tropical fish tank live wallpaper!...     4.1   \n",
       "\n",
       "   Number of ratings  Price  \\\n",
       "0            1438259  $0.00   \n",
       "1              18147  $0.00   \n",
       "2              62145  $0.00   \n",
       "\n",
       "                                        Related apps  \\\n",
       "0  {com.jsdfproductions.ctatrackerpro, com.alk.co...   \n",
       "1  {colfore.wallpaper.snowfree, com.tabsoft.wallp...   \n",
       "2  {com.convisual.lwp.fishometerlite, com.accessl...   \n",
       "\n",
       "   Dangerous permissions count  Safe permissions count  ...  \\\n",
       "0                         17.0                       8  ...   \n",
       "1                          0.0                       0  ...   \n",
       "2                          0.0                       0  ...   \n",
       "\n",
       "   Your personal information : read Browser's history and bookmarks (D)  \\\n",
       "0                                                  0                      \n",
       "1                                                  0                      \n",
       "2                                                  0                      \n",
       "\n",
       "   Your personal information : read calendar events (D)  \\\n",
       "0                                                  0      \n",
       "1                                                  0      \n",
       "2                                                  0      \n",
       "\n",
       "   Your personal information : read contact data (D)  \\\n",
       "0                                                  1   \n",
       "1                                                  0   \n",
       "2                                                  0   \n",
       "\n",
       "   Your personal information : read sensitive log data (D)  \\\n",
       "0                                                  0         \n",
       "1                                                  0         \n",
       "2                                                  0         \n",
       "\n",
       "   Your personal information : read user defined dictionary (D)  \\\n",
       "0                                                  0              \n",
       "1                                                  0              \n",
       "2                                                  0              \n",
       "\n",
       "   Your personal information : retrieve system internal state (S)  \\\n",
       "0                                                  0                \n",
       "1                                                  0                \n",
       "2                                                  0                \n",
       "\n",
       "   Your personal information : set alarm in alarm clock (S)  \\\n",
       "0                                                  0          \n",
       "1                                                  0          \n",
       "2                                                  0          \n",
       "\n",
       "   Your personal information : write Browser's history and bookmarks (D)  \\\n",
       "0                                                  0                       \n",
       "1                                                  0                       \n",
       "2                                                  0                       \n",
       "\n",
       "   Your personal information : write contact data (D)  \\\n",
       "0                                                  1    \n",
       "1                                                  0    \n",
       "2                                                  0    \n",
       "\n",
       "   Your personal information : write to user defined dictionary (S)  \n",
       "0                                                  0                 \n",
       "1                                                  0                 \n",
       "2                                                  0                 \n",
       "\n",
       "[3 rows x 183 columns]"
      ]
     },
     "execution_count": 4,
     "metadata": {},
     "output_type": "execute_result"
    }
   ],
   "source": [
    "df.head(n=3)"
   ]
  },
  {
   "cell_type": "markdown",
   "metadata": {},
   "source": [
    "### Part B: Convert each app into a \"document\" \n",
    "\n"
   ]
  },
  {
   "cell_type": "code",
   "execution_count": 5,
   "metadata": {},
   "outputs": [
    {
     "name": "stderr",
     "output_type": "stream",
     "text": [
      "C:\\Users\\Molly\\Anaconda3\\lib\\site-packages\\ipykernel_launcher.py:7: FutureWarning: Method .as_matrix will be removed in a future version. Use .values instead.\n",
      "  import sys\n"
     ]
    }
   ],
   "source": [
    "import builtins\n",
    "list = builtins.list\n",
    "permission_columns = list(df.columns[10:])\n",
    "app_names = list(df[\"App\"])\n",
    "app_ratings = np.array(df[\"Number of ratings\"])\n",
    "df_perms = df[permission_columns]\n",
    "X = df_perms.as_matrix()\n",
    "#del df # uncomment to free up RAM\n",
    "#del df_perms # uncomment to free up RAM"
   ]
  },
  {
   "cell_type": "markdown",
   "metadata": {},
   "source": [
    "### Part C: Downweight \"stop-words\"\n"
   ]
  },
  {
   "cell_type": "code",
   "execution_count": 6,
   "metadata": {},
   "outputs": [],
   "source": [
    "from sklearn.feature_extraction.text import TfidfTransformer\n",
    "transformer = TfidfTransformer()\n",
    "tf = transformer.fit_transform(X)\n",
    "\n"
   ]
  },
  {
   "cell_type": "markdown",
   "metadata": {},
   "source": [
    "### Part D: Discover 10 \"topics\"\n",
    "\n"
   ]
  },
  {
   "cell_type": "code",
   "execution_count": 11,
   "metadata": {},
   "outputs": [
    {
     "name": "stdout",
     "output_type": "stream",
     "text": [
      "Wall time: 5min 34s\n"
     ]
    }
   ],
   "source": [
    "%%time\n",
    "from sklearn.decomposition import LatentDirichletAllocation\n",
    "\n",
    "num_topics = 10\n",
    "lda = LatentDirichletAllocation(n_components=num_topics, learning_method='online', random_state=0)\n",
    "l_fit = lda.fit(tf)"
   ]
  },
  {
   "cell_type": "code",
   "execution_count": 10,
   "metadata": {},
   "outputs": [
    {
     "data": {
      "text/plain": [
       "(10, 173)"
      ]
     },
     "execution_count": 10,
     "metadata": {},
     "output_type": "execute_result"
    }
   ],
   "source": [
    "l_fit.components_.shape"
   ]
  },
  {
   "cell_type": "code",
   "execution_count": 12,
   "metadata": {},
   "outputs": [
    {
     "data": {
      "text/plain": [
       "array([1., 1., 1., 1., 1., 1., 1., 1., 1., 1.])"
      ]
     },
     "execution_count": 12,
     "metadata": {},
     "output_type": "execute_result"
    }
   ],
   "source": [
    "l_fit.components_.sum(axis=1)\n",
    "topic_word_distributions = np.array([row / row.sum() for row in l_fit.components_])\n",
    "topic_word_distributions.sum(axis=1)"
   ]
  },
  {
   "cell_type": "markdown",
   "metadata": {},
   "source": [
    "Now each app can be viewed as a distribution over these 10 topics, and each topic is a distribution over all the permissions in the data."
   ]
  },
  {
   "cell_type": "markdown",
   "metadata": {},
   "source": [
    "### Part E: List the top 10 \"words\" in each topic"
   ]
  },
  {
   "cell_type": "code",
   "execution_count": 33,
   "metadata": {},
   "outputs": [
    {
     "name": "stdout",
     "output_type": "stream",
     "text": [
      "Displaying the top 10 words per topic and their probabilities within the topic...\n",
      "\n",
      "[Topic 0]\n",
      "Your location : coarse (network-based) location (D)                               0.342968\n",
      "Your location : fine (GPS) location (D)                                           0.323157\n",
      "Network communication : full Internet access (D)                                  0.170572\n",
      "Network communication : view network state (S)                                    0.090563\n",
      "Your location : access extra location provider commands (S)                       0.038943\n",
      "System tools : send sticky broadcast (S)                                          0.023102\n",
      "Default : control location update notifications (S)                               0.007897\n",
      "Default : permission to install a location provider (S)                           0.001821\n",
      "Default : monitor and control all application launching (S)                       0.000284\n",
      "Your location : mock location sources for testing (D)                             0.000004\n",
      "\n",
      "[Topic 1]\n",
      "Hardware controls : control vibrator (S)                                          0.700793\n",
      "Network communication : full Internet access (D)                                  0.173120\n",
      "Network communication : view network state (S)                                    0.099750\n",
      "Default : change screen orientation (S)                                           0.022587\n",
      "Default : record what you type and actions you take (S)                           0.002073\n",
      "Default : modify/delete USB storage contents modify/delete SD card contents (S)   0.000136\n",
      "Storage : modify/delete USB storage contents modify/delete SD card contents (D)   0.000009\n",
      "System tools : prevent device from sleeping (D)                                   0.000009\n",
      "Default : modify battery statistics (S)                                           0.000009\n",
      "Phone calls : read phone state and identity (D)                                   0.000009\n",
      "\n",
      "[Topic 2]\n",
      "Network communication : full Internet access (D)                                  0.701930\n",
      "Network communication : view network state (S)                                    0.297606\n",
      "Services that cost you money : directly call phone numbers (D)                    0.000003\n",
      "Your personal information : read contact data (D)                                 0.000003\n",
      "Your messages : write instant messages (D)                                        0.000003\n",
      "Default : mock location sources for testing (S)                                   0.000003\n",
      "Default : write contact data (S)                                                  0.000003\n",
      "Default : start IM service (S)                                                    0.000003\n",
      "Network communication : download files without notification (S)                   0.000003\n",
      "Default : read instant messages (S)                                               0.000003\n",
      "\n",
      "[Topic 3]\n",
      "Services that cost you money : directly call phone numbers (D)                    0.102437\n",
      "Your personal information : read contact data (D)                                 0.071137\n",
      "Phone calls : read phone state and identity (D)                                   0.055256\n",
      "Network communication : full Internet access (D)                                  0.052074\n",
      "Your location : fine (GPS) location (D)                                           0.049079\n",
      "Storage : modify/delete USB storage contents modify/delete SD card contents (D)   0.046287\n",
      "Services that cost you money : send SMS messages (D)                              0.042971\n",
      "Network communication : view network state (S)                                    0.038362\n",
      "Your location : coarse (network-based) location (D)                               0.037324\n",
      "Your messages : receive SMS (D)                                                   0.032090\n",
      "\n",
      "[Topic 4]\n",
      "Network communication : view Wi-Fi state (S)                                      0.431940\n",
      "Phone calls : read phone state and identity (D)                                   0.147991\n",
      "Network communication : view network state (S)                                    0.139519\n",
      "Network communication : full Internet access (D)                                  0.106213\n",
      "Your accounts : discover known accounts (S)                                       0.068515\n",
      "System tools : change your UI settings (D)                                        0.067243\n",
      "System tools : delete all application cache data (D)                              0.013160\n",
      "System tools : make application always run (D)                                    0.010826\n",
      "System tools : measure application storage space (S)                              0.007140\n",
      "Default : delete other applications' data (S)                                     0.004065\n",
      "\n",
      "[Topic 5]\n",
      "Storage : modify/delete USB storage contents modify/delete SD card contents (D)   0.400458\n",
      "System tools : prevent device from sleeping (D)                                   0.207732\n",
      "Network communication : full Internet access (D)                                  0.166785\n",
      "Network communication : view network state (S)                                    0.123243\n",
      "System tools : retrieve running applications (D)                                  0.051514\n",
      "Phone calls : read phone state and identity (D)                                   0.047650\n",
      "Default : bind to a wallpaper (S)                                                 0.002151\n",
      "Your location : fine (GPS) location (D)                                           0.000003\n",
      "Your location : coarse (network-based) location (D)                               0.000003\n",
      "Hardware controls : control vibrator (S)                                          0.000003\n",
      "\n",
      "[Topic 6]\n",
      "Hardware controls : take pictures and videos (D)                                  0.159002\n",
      "System tools : automatically start at boot (S)                                    0.111945\n",
      "Storage : modify/delete USB storage contents modify/delete SD card contents (D)   0.087531\n",
      "Network communication : full Internet access (D)                                  0.077591\n",
      "Hardware controls : control vibrator (S)                                          0.077108\n",
      "Network communication : view network state (S)                                    0.070441\n",
      "Hardware controls : record audio (D)                                              0.065503\n",
      "Phone calls : read phone state and identity (D)                                   0.065055\n",
      "Your location : coarse (network-based) location (D)                               0.063600\n",
      "Your location : fine (GPS) location (D)                                           0.059520\n",
      "\n",
      "[Topic 7]\n",
      "Phone calls : read phone state and identity (D)                                   0.555730\n",
      "Network communication : view network state (S)                                    0.221083\n",
      "Network communication : full Internet access (D)                                  0.217431\n",
      "Default : bind to an input method (S)                                             0.004019\n",
      "Default : force application to close (S)                                          0.000467\n",
      "Storage : modify/delete USB storage contents modify/delete SD card contents (D)   0.000008\n",
      "Your location : fine (GPS) location (D)                                           0.000008\n",
      "Your location : coarse (network-based) location (D)                               0.000008\n",
      "Development tools : make all background applications close (D)                    0.000008\n",
      "System tools : prevent device from sleeping (D)                                   0.000008\n",
      "\n",
      "[Topic 8]\n",
      "System tools : set wallpaper (S)                                                  0.638630\n",
      "Network communication : full Internet access (D)                                  0.120986\n",
      "Storage : modify/delete USB storage contents modify/delete SD card contents (D)   0.109355\n",
      "Network communication : view network state (S)                                    0.101621\n",
      "Default : delete other applications' caches (S)                                   0.014004\n",
      "Default : press keys and control buttons (S)                                      0.006615\n",
      "Default : interact with a device admin (S)                                        0.002178\n",
      "System tools : send package removed broadcast (S)                                 0.001569\n",
      "Default : modify the Google services map (S)                                      0.000808\n",
      "Development tools : make all background applications close (D)                    0.000629\n",
      "\n",
      "[Topic 9]\n",
      "Network communication : receive data from Internet (S)                            0.092766\n",
      "System tools : modify global system settings (D)                                  0.076517\n",
      "System tools : prevent device from sleeping (D)                                   0.074670\n",
      "Network communication : view network state (S)                                    0.067849\n",
      "Storage : modify/delete USB storage contents modify/delete SD card contents (D)   0.058953\n",
      "Network communication : full Internet access (D)                                  0.055539\n",
      "Phone calls : read phone state and identity (D)                                   0.054273\n",
      "System tools : automatically start at boot (S)                                    0.046725\n",
      "Network communication : view Wi-Fi state (S)                                      0.044354\n",
      "System tools : change Wi-Fi state (D)                                             0.042939\n",
      "\n"
     ]
    }
   ],
   "source": [
    "num_top_words = 10\n",
    "\n",
    "print('Displaying the top %d words per topic and their probabilities within the topic...' % num_top_words)\n",
    "print()\n",
    "\n",
    "for topic_idx in range(num_topics):\n",
    "    print('[Topic ', topic_idx, ']', sep='')\n",
    "    sort_indices = np.argsort(-topic_word_distributions[topic_idx])\n",
    "    for rank in range(num_top_words):\n",
    "        word_idx = sort_indices[rank]\n",
    "        print(\"%-80s  %f\"%(permission_columns[word_idx],topic_word_distributions[topic_idx, word_idx]))\n",
    "    print()"
   ]
  },
  {
   "cell_type": "markdown",
   "metadata": {},
   "source": [
    "\n",
    "Seemingly meaningful topic groupings: \n",
    "\n",
    "Topic 0 seems to be about location services for apps \n",
    "\n",
    "Topic 1: device state controls\n",
    "\n",
    "Topic 2 seems to be about messaging\n",
    "\n",
    "Topic 3 might be messaging/calling/location? Something related to long distance phone use/using phone in foreign countries?\n",
    "\n",
    "Topic 4: phone memory settings\n",
    "\n",
    "Topic 6: taking videos and photos on the phone\n",
    "\n",
    "Topic 8: some type of device OS controls\n",
    "\n",
    "Topic 9: something to do with the phone state and being awake"
   ]
  },
  {
   "cell_type": "markdown",
   "metadata": {},
   "source": [
    "### Part F: For each topic, list the top 3 apps with at least 100000 ratings having the highest probability assigned to that topic "
   ]
  },
  {
   "cell_type": "code",
   "execution_count": 93,
   "metadata": {},
   "outputs": [],
   "source": [
    "def get_rank(topic_idx, topic_to_document, documents, no_top_docs):\n",
    "        print(\"Top Applications Topic %d:\" % (topic_idx))\n",
    "        top_doc_indices = np.argsort(-topic_to_document[:,topic_idx] )\n",
    "        the_count=0\n",
    "        for doc_index in top_doc_indices:\n",
    "                if(the_count==no_top_docs):\n",
    "                    return\n",
    "                if(documents[doc_index] in top_apps):\n",
    "                    the_count+=1\n",
    "                    print(documents[doc_index])   "
   ]
  },
  {
   "cell_type": "code",
   "execution_count": 94,
   "metadata": {},
   "outputs": [
    {
     "name": "stdout",
     "output_type": "stream",
     "text": [
      "Top Applications Topic 0:\n",
      "Street View on Google Maps\n",
      "Toss It\n",
      "GasBuddy\n",
      "\n",
      "Top Applications Topic 1:\n",
      "Mouse Trap\n",
      "Bubble Blast 2\n",
      "Drag Racing\n",
      "\n",
      "Top Applications Topic 2:\n",
      "Angry Birds Seasons\n",
      "Yoo Ninja! Free\n",
      "Adobe Reader\n",
      "\n",
      "Top Applications Topic 3:\n",
      "GO SMS Pro\n",
      "TweetCaster for Twitter\n",
      "Zynga Poker\n",
      "\n",
      "Top Applications Topic 4:\n",
      "Racing Moto\n",
      "Angry Birds\n",
      "Angry Birds Rio\n",
      "\n",
      "Top Applications Topic 5:\n",
      "Real BlackJack\n",
      "Robo Defense FREE\n",
      "SpeechSynthesis Data Installer\n",
      "\n",
      "Top Applications Topic 6:\n",
      "Seesmic (Facebook, Twitter)\n",
      "Tiny Flashlight + LED\n",
      "ColorNote Notepad Notes\n",
      "\n",
      "Top Applications Topic 7:\n",
      "Blast Monkeys\n",
      "World Newspapers\n",
      "Paradise Island\n",
      "\n",
      "Top Applications Topic 8:\n",
      "Wallpapers HD\n",
      "Strip Poker\n",
      "Backgrounds HD Wallpapers\n",
      "\n",
      "Top Applications Topic 9:\n",
      "Twitter\n",
      "YouTube\n",
      "Meet New People\n",
      "\n"
     ]
    }
   ],
   "source": [
    "df3=df.loc[(df['Number of ratings'] >= 100000)]\n",
    "top_apps=list(df3['App'])\n",
    "\n",
    "no_top_docs=3\n",
    "lda_topic_to_document = lda.transform(tf)\n",
    "lda_topic_to_word = l_fit.components_\n",
    "for topic_idx,topic in enumerate(lda_topic_to_word):\n",
    "    get_rank(topic_idx, lda_topic_to_document, app_names, no_top_docs)\n",
    "    print()\n"
   ]
  },
  {
   "cell_type": "markdown",
   "metadata": {},
   "source": [
    "### Part G: Visualize the document-topic proportion matrix in 2-D using t-SNE"
   ]
  },
  {
   "cell_type": "code",
   "execution_count": 182,
   "metadata": {},
   "outputs": [],
   "source": [
    "np.random.seed(0)\n",
    "random_sample = np.random.permutation(lda_topic_to_document.shape[0])[:2000]  # 10000 random indices\n",
    "lda_mini = lda_topic_to_document[random_sample,:]\n"
   ]
  },
  {
   "cell_type": "code",
   "execution_count": 183,
   "metadata": {},
   "outputs": [],
   "source": [
    "top_doc_index=[]\n",
    "top_doc_index_map=[]\n",
    "for i in range(180295):\n",
    "    top_doc_index=np.argsort(-lda_topic_to_document[i,:])\n",
    "    top_doc_index_map.append(top_doc_index[0])\n",
    "np_ar=np.array(top_doc_index_map)"
   ]
  },
  {
   "cell_type": "code",
   "execution_count": 173,
   "metadata": {},
   "outputs": [
    {
     "name": "stdout",
     "output_type": "stream",
     "text": [
      "[t-SNE] Computing 91 nearest neighbors...\n",
      "[t-SNE] Indexed 2000 samples in 0.006s...\n",
      "[t-SNE] Computed neighbors for 2000 samples in 0.146s...\n",
      "[t-SNE] Computed conditional probabilities for sample 1000 / 2000\n",
      "[t-SNE] Computed conditional probabilities for sample 2000 / 2000\n",
      "[t-SNE] Mean sigma: 0.000000\n",
      "[t-SNE] KL divergence after 250 iterations with early exaggeration: 46.383518\n",
      "[t-SNE] KL divergence after 5000 iterations: -1.162120\n",
      "Wall time: 1min 23s\n"
     ]
    },
    {
     "data": {
      "image/png": "[encoded data removed]",
      "text/plain": [
       "<Figure size 432x288 with 1 Axes>"
      ]
     },
     "metadata": {},
     "output_type": "display_data"
    }
   ],
   "source": [
    "%%time\n",
    "from sklearn.manifold import TSNE\n",
    "\n",
    "tsne = TSNE(perplexity=30,verbose=1,init='pca', learning_rate=100,n_iter=5000, random_state=0,angle=.99)\n",
    "android_tsne = tsne.fit_transform(lda_mini)\n",
    "labels=[topic_idx for topic_idx,topic in enumerate(lda_topic_to_word)]\n",
    "\n",
    "scatter=plt.scatter(android_tsne[:, 0], android_tsne[:, 1],c=[i for i in np_ar[random_sample]],cmap='Spectral')\n",
    "# produce a legend with the unique colors from the scatter\n",
    "legend1 = plt.legend(*scatter.legend_elements(), title=\"Topics\",prop={'size': 6},loc='lower right')"
   ]
  }
 ],
 "metadata": {
  "kernelspec": {
   "display_name": "Python 3",
   "language": "python",
   "name": "python3"
  },
  "language_info": {
   "codemirror_mode": {
    "name": "ipython",
    "version": 3
   },
   "file_extension": ".py",
   "mimetype": "text/x-python",
   "name": "python",
   "nbconvert_exporter": "python",
   "pygments_lexer": "ipython3",
   "version": "3.7.3"
  }
 },
 "nbformat": 4,
 "nbformat_minor": 2
}
